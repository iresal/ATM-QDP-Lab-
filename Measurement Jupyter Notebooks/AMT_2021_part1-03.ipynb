{
 "cells": [
  {
   "cell_type": "code",
   "execution_count": 1,
   "metadata": {},
   "outputs": [
    {
     "name": "stdout",
     "output_type": "stream",
     "text": [
      "Done\n"
     ]
    }
   ],
   "source": [
    "%matplotlib nbagg\n",
    "import os\n",
    "#from time import sleep\n",
    "import datetime\n",
    "import time\n",
    "\n",
    "import matplotlib.pyplot as plt\n",
    "import numpy as np\n",
    "import qcodes as qc\n",
    "import math as math\n",
    "from qcodes import (\n",
    "    Measurement,\n",
    "    experiments,\n",
    "    initialise_database,\n",
    "    initialise_or_create_database_at,\n",
    "    load_by_guid,\n",
    "    load_by_run_spec,\n",
    "    load_experiment,\n",
    "    load_last_experiment,\n",
    "    load_or_create_experiment,\n",
    "    new_experiment,\n",
    ")\n",
    "from qcodes.dataset.plotting import plot_dataset\n",
    "from qcodes.logger.logger import start_all_logging\n",
    "from qcodes.instrument_drivers.Lakeshore.Model_372 import Model_372\n",
    "\n",
    "\n",
    "print (\"Done\")"
   ]
  },
  {
   "cell_type": "code",
   "execution_count": 2,
   "metadata": {},
   "outputs": [
    {
     "name": "stdout",
     "output_type": "stream",
     "text": [
      "Logging hadn't been started.\n",
      "Activating auto-logging. Current session state plus future input saved.\n",
      "Filename       : C:\\Users\\Lab\\.qcodes\\logs\\command_history.log\n",
      "Mode           : append\n",
      "Output logging : True\n",
      "Raw input log  : False\n",
      "Timestamping   : True\n",
      "State          : active\n",
      "Qcodes Logfile : C:\\Users\\Lab\\.qcodes\\logs\\211013-15832-qcodes.log\n",
      "Done\n"
     ]
    }
   ],
   "source": [
    "start_all_logging()\n",
    "station = qc.Station() # we will load all instruments\n",
    "print (\"Done\")"
   ]
  },
  {
   "cell_type": "code",
   "execution_count": 3,
   "metadata": {},
   "outputs": [
    {
     "name": "stdout",
     "output_type": "stream",
     "text": [
      "Connected to: LSCI 372 (serial:LSA283C, firmware:1.4) in 0.05s\n"
     ]
    },
    {
     "data": {
      "text/plain": [
       "'lakeshore_372_sample_heater'"
      ]
     },
     "execution_count": 3,
     "metadata": {},
     "output_type": "execute_result"
    }
   ],
   "source": [
    "lsA = Model_372('lakeshore_372', 'TCPIP::192.168.0.114::7777::SOCKET') #Ask\n",
    "h = lsA.sample_heater\n",
    "station.add_component(lsA)\n",
    "station.add_component(h)"
   ]
  },
  {
   "cell_type": "code",
   "execution_count": 4,
   "metadata": {},
   "outputs": [],
   "source": [
    "lsA.ch01.units('kelvin'); lsA.ch01.enabled(True)\n",
    "lsA.ch02.units('kelvin'); lsA.ch02.enabled(True)\n",
    "lsA.ch03.units('kelvin'); lsA.ch03.enabled(True)\n",
    "lsA.ch05.units('kelvin'); lsA.ch05.enabled(True)\n",
    "lsA.ch06.units('kelvin'); lsA.ch06.enabled(True)\n",
    "lsA.ch09.units('kelvin'); lsA.ch09.enabled(True)"
   ]
  },
  {
   "cell_type": "code",
   "execution_count": 5,
   "metadata": {},
   "outputs": [
    {
     "name": "stdout",
     "output_type": "stream",
     "text": [
      "Temperature of ch01 (on): 51.0733 kelvin\n",
      "Temperature of ch02 (on): 3.00307 kelvin\n",
      "Temperature of ch03 (on): 3.59782 kelvin\n",
      "Temperature of ch04 (off): 0.0 ohms\n",
      "Temperature of ch05 (on): 0.92363 kelvin\n",
      "Temperature of ch06 (on): 0.0099577 kelvin\n",
      "Temperature of ch07 (off): 0.0 ohms\n",
      "Temperature of ch08 (off): 0.0 ohms\n",
      "Temperature of ch09 (on): 0.0191596 kelvin\n",
      "Temperature of ch10 (off): 0.0 ohms\n",
      "Temperature of ch11 (off): 0.0 ohms\n",
      "Temperature of ch12 (off): 0.0 ohms\n",
      "Temperature of ch13 (off): 0.0 ohms\n",
      "Temperature of ch14 (off): 0.0 ohms\n",
      "Temperature of ch15 (off): 0.0 ohms\n",
      "Temperature of ch16 (off): 0.0 ohms\n"
     ]
    }
   ],
   "source": [
    "for ch in lsA.channels:\n",
    "    print(f'Temperature of {ch.short_name} ({\"on\" if ch.enabled() else \"off\"}): {ch.temperature()} {ch.units()}')"
   ]
  },
  {
   "cell_type": "code",
   "execution_count": 9,
   "metadata": {},
   "outputs": [
    {
     "name": "stdout",
     "output_type": "stream",
     "text": [
      "['off', '31.6μA', '100μA', '316μA', '1mA', '3.16mA', '10mA', '31.6mA', '100mA']\n"
     ]
    }
   ],
   "source": [
    "# pedagogical coding stuff\n",
    "print(list(h.RANGES.keys()))   #give me all the available currents\n",
    "h.mode('open_loop')            #set the heater to open-loop\n",
    "h.output_range('100μA')        #select the range\n",
    "h.write(\"MOUT0.0\\n\")           #write current level to the heater"
   ]
  },
  {
   "cell_type": "code",
   "execution_count": 10,
   "metadata": {},
   "outputs": [
    {
     "name": "stdout",
     "output_type": "stream",
     "text": [
      "100μA\n",
      "0.0\n",
      "0.0190205\n"
     ]
    }
   ],
   "source": [
    "#do a sanity check\n",
    "print(h.output_range())\n",
    "print(h.output())\n",
    "print(lsA.ch09.temperature())"
   ]
  },
  {
   "cell_type": "code",
   "execution_count": 11,
   "metadata": {},
   "outputs": [],
   "source": [
    "number = 0"
   ]
  },
  {
   "cell_type": "code",
   "execution_count": 12,
   "metadata": {},
   "outputs": [
    {
     "ename": "KeyboardInterrupt",
     "evalue": "",
     "output_type": "error",
     "traceback": [
      "\u001b[1;31m---------------------------------------------------------------------------\u001b[0m",
      "\u001b[1;31mKeyboardInterrupt\u001b[0m                         Traceback (most recent call last)",
      "\u001b[1;32m<ipython-input-12-d1b6002461e8>\u001b[0m in \u001b[0;36m<module>\u001b[1;34m\u001b[0m\n\u001b[0;32m     30\u001b[0m         \u001b[0mf\u001b[0m\u001b[1;33m.\u001b[0m\u001b[0mflush\u001b[0m\u001b[1;33m(\u001b[0m\u001b[1;33m)\u001b[0m\u001b[1;33m\u001b[0m\u001b[1;33m\u001b[0m\u001b[0m\n\u001b[0;32m     31\u001b[0m \u001b[1;33m\u001b[0m\u001b[0m\n\u001b[1;32m---> 32\u001b[1;33m     \u001b[0mtime\u001b[0m\u001b[1;33m.\u001b[0m\u001b[0msleep\u001b[0m\u001b[1;33m(\u001b[0m\u001b[1;36m10\u001b[0m\u001b[1;33m)\u001b[0m\u001b[1;33m\u001b[0m\u001b[1;33m\u001b[0m\u001b[0m\n\u001b[0m",
      "\u001b[1;31mKeyboardInterrupt\u001b[0m: "
     ]
    }
   ],
   "source": [
    "number += 1\n",
    "datafile_path = 'temperature_measurement_T(P)_03_'+str(datetime.date.today())+'-Sweep0'+str(number)+'.txt'\n",
    "header = \"Start time is \"+datetime.datetime.now().strftime(\"%X\")+\"\\n\"\n",
    "with open(datafile_path, 'w+') as f:\n",
    "    np.savetxt(f, [], header=header)\n",
    "    header = \"Heater-output, Time, TempMXC, TempProbe\\n\"+\"% ,s, K ,K \\n\"+\"Comments: n.a.\"\n",
    "    np.savetxt(f, [], header=header)\n",
    "    \n",
    "    \n",
    "lsA.ch01.units('kelvin'); lsA.ch01.enabled(False)\n",
    "lsA.ch02.units('kelvin'); lsA.ch02.enabled(False)\n",
    "lsA.ch03.units('kelvin'); lsA.ch03.enabled(False)\n",
    "lsA.ch05.units('kelvin'); lsA.ch05.enabled(False)\n",
    "lsA.ch06.units('kelvin'); lsA.ch06.enabled(True)\n",
    "lsA.ch09.units('kelvin'); lsA.ch09.enabled(True)\n",
    "\n",
    "h.output_range('100μA')\n",
    "h.write(\"MOUT20.0\\n\")\n",
    "\n",
    "while True:\n",
    "    t_time           = time.time()     # log the time\n",
    "    heateroutput1    = (h.output())    # log the set output power\n",
    "    temperatureMXC   = (lsA.ch06.temperature()) #log the MXC temperature\n",
    "    temperatureProbe = (lsA.ch09.temperature()) #log the probe temperature \n",
    "    \n",
    "    #write data to our file\n",
    "    data = np.column_stack((heateroutput1,t_time,temperatureMXC,temperatureProbe))\n",
    "    with open(datafile_path, 'a+') as f:\n",
    "        np.savetxt(f, data)\n",
    "        f.flush()\n",
    "        \n",
    "    time.sleep(10)\n"
   ]
  },
  {
   "cell_type": "code",
   "execution_count": 38,
   "metadata": {},
   "outputs": [],
   "source": [
    "h.write(\"MOUT54.77\\n\")"
   ]
  },
  {
   "cell_type": "code",
   "execution_count": 23,
   "metadata": {},
   "outputs": [
    {
     "name": "stdout",
     "output_type": "stream",
     "text": [
      "[ 166.59894457  333.19788915  684.65319688 1369.30639376 2738.61278753\n",
      " 5477.22557505]\n"
     ]
    }
   ],
   "source": [
    "# We start the modifications here \n",
    "\n",
    "Temp_mk = [9.125,18.25,37.5,75,150,300]\n",
    "Temp_mk = np.array(Temp_mk)\n",
    "\n",
    "T = np.float64(Temp_mk)\n",
    "I = np.sqrt(0.04/120)*T\n",
    "\n",
    "\n",
    "print(I*1e3)"
   ]
  },
  {
   "cell_type": "code",
   "execution_count": 40,
   "metadata": {},
   "outputs": [
    {
     "ename": "KeyboardInterrupt",
     "evalue": "",
     "output_type": "error",
     "traceback": [
      "\u001b[1;31m---------------------------------------------------------------------------\u001b[0m",
      "\u001b[1;31mKeyboardInterrupt\u001b[0m                         Traceback (most recent call last)",
      "\u001b[1;32m<ipython-input-40-cc7afbe732d1>\u001b[0m in \u001b[0;36m<module>\u001b[1;34m\u001b[0m\n\u001b[0;32m     30\u001b[0m         \u001b[0mf\u001b[0m\u001b[1;33m.\u001b[0m\u001b[0mflush\u001b[0m\u001b[1;33m(\u001b[0m\u001b[1;33m)\u001b[0m\u001b[1;33m\u001b[0m\u001b[1;33m\u001b[0m\u001b[0m\n\u001b[0;32m     31\u001b[0m \u001b[1;33m\u001b[0m\u001b[0m\n\u001b[1;32m---> 32\u001b[1;33m     \u001b[0mtime\u001b[0m\u001b[1;33m.\u001b[0m\u001b[0msleep\u001b[0m\u001b[1;33m(\u001b[0m\u001b[1;36m10\u001b[0m\u001b[1;33m)\u001b[0m\u001b[1;33m\u001b[0m\u001b[1;33m\u001b[0m\u001b[0m\n\u001b[0m",
      "\u001b[1;31mKeyboardInterrupt\u001b[0m: "
     ]
    }
   ],
   "source": [
    "number += 1\n",
    "datafile_path = 'temperature_measurement_T(P)_03_'+str(datetime.date.today())+'-Sweep1'+str(number)+'.txt'\n",
    "header = \"Start time is \"+datetime.datetime.now().strftime(\"%X\")+\"\\n\"\n",
    "with open(datafile_path, 'w+') as f:\n",
    "    np.savetxt(f, [], header=header)\n",
    "    header = \"Heater-output, Time, TempMXC, TempProbe\\n\"+\"% ,s, K ,K \\n\"+\"Comments: Exercise 3, step alike\" \n",
    "    np.savetxt(f, [], header=header)\n",
    "    \n",
    "    \n",
    "lsA.ch01.units('kelvin'); lsA.ch01.enabled(False)\n",
    "lsA.ch02.units('kelvin'); lsA.ch02.enabled(False)\n",
    "lsA.ch03.units('kelvin'); lsA.ch03.enabled(False)\n",
    "lsA.ch05.units('kelvin'); lsA.ch05.enabled(False)\n",
    "lsA.ch06.units('kelvin'); lsA.ch06.enabled(True)\n",
    "lsA.ch09.units('kelvin'); lsA.ch09.enabled(True)\n",
    "\n",
    "h.output_range('100μA')\n",
    "h.write(\"MOUT0.0\\n\")\n",
    "\n",
    "while True:\n",
    "    t_time           = time.time()     # log the time\n",
    "    heateroutput1    = (h.output())    # log the set output power\n",
    "    temperatureMXC   = (lsA.ch06.temperature()) #log the MXC temperature\n",
    "    temperatureProbe = (lsA.ch09.temperature()) #log the probe temperature \n",
    "    \n",
    "    #write data to our file\n",
    "    data = np.column_stack((heateroutput1,t_time,temperatureMXC,temperatureProbe))\n",
    "    with open(datafile_path, 'a+') as f:\n",
    "        np.savetxt(f, data)\n",
    "        f.flush()\n",
    "        \n",
    "    time.sleep(10)\n"
   ]
  },
  {
   "cell_type": "code",
   "execution_count": 32,
   "metadata": {},
   "outputs": [
    {
     "name": "stdout",
     "output_type": "stream",
     "text": [
      "MOUT[ 68.47 136.93 273.86 547.72]\n",
      "\n"
     ]
    }
   ],
   "source": [
    "Temp_mk = [37.5,75,150,300]\n",
    "Temp_mk = np.array(Temp_mk)\n",
    "\n",
    "T = np.float64(Temp_mk)\n",
    "I = np.sqrt(0.04/120)*T\n",
    "\n",
    "values = (I*1e3)*0.1 \n",
    "values =  str(np.round(values, 2))\n",
    "variable = \"MOUT\"+str(values)+\"\\n\"\n",
    "\n",
    "print(variable)\n"
   ]
  }
 ],
 "metadata": {
  "kernelspec": {
   "display_name": "Python 3 (ipykernel)",
   "language": "python",
   "name": "python3"
  },
  "language_info": {
   "codemirror_mode": {
    "name": "ipython",
    "version": 3
   },
   "file_extension": ".py",
   "mimetype": "text/x-python",
   "name": "python",
   "nbconvert_exporter": "python",
   "pygments_lexer": "ipython3",
   "version": "3.7.3"
  }
 },
 "nbformat": 4,
 "nbformat_minor": 4
}
